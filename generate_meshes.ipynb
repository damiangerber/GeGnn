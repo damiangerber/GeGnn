{
 "cells": [
  {
   "cell_type": "markdown",
   "metadata": {},
   "source": [
    "# Generate meshes for testing"
   ]
  },
  {
   "cell_type": "code",
   "execution_count": 4,
   "metadata": {},
   "outputs": [],
   "source": [
    "import os\n",
    "import numpy as np\n",
    "import trimesh\n",
    "\n",
    "# Define paths\n",
    "PATH_TO_MESH = \"data/meshes\"\n",
    "\n",
    "# Ensure directories exist\n",
    "os.makedirs(PATH_TO_MESH, exist_ok=True)\n",
    "\n",
    "# Generate simple meshes\n",
    "shapes = {\n",
    "    \"cube\": trimesh.creation.box(),\n",
    "    \"sphere\": trimesh.creation.icosphere(),\n",
    "    \"cylinder\": trimesh.creation.cylinder(radius=0.5, height=1.0)\n",
    "}\n",
    "\n",
    "# Save meshes as .obj files\n",
    "for name, mesh in shapes.items():\n",
    "    mesh.export(os.path.join(PATH_TO_MESH, f\"{name}.obj\"))\n",
    "\n",
    "# List mesh files\n",
    "mesh_files = [f for f in os.listdir(PATH_TO_MESH) if f.endswith('.obj')]\n",
    "\n",
    "if not mesh_files:\n",
    "    raise FileNotFoundError(\"No .obj files found in the specified mesh directory.\")\n"
   ]
  },
  {
   "cell_type": "code",
   "execution_count": null,
   "metadata": {},
   "outputs": [],
   "source": []
  }
 ],
 "metadata": {
  "kernelspec": {
   "display_name": ".venv",
   "language": "python",
   "name": "python3"
  },
  "language_info": {
   "codemirror_mode": {
    "name": "ipython",
    "version": 3
   },
   "file_extension": ".py",
   "mimetype": "text/x-python",
   "name": "python",
   "nbconvert_exporter": "python",
   "pygments_lexer": "ipython3",
   "version": "3.9.6"
  }
 },
 "nbformat": 4,
 "nbformat_minor": 2
}
